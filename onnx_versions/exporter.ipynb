{
 "cells": [
  {
   "cell_type": "code",
   "execution_count": 63,
   "metadata": {},
   "outputs": [
    {
     "name": "stderr",
     "output_type": "stream",
     "text": [
      "YOLOv8n summary (fused): 168 layers, 3006038 parameters, 0 gradients, 8.1 GFLOPs\n",
      "Ultralytics YOLOv8.0.18 🚀 Python-3.8.10 torch-1.13.1+cu117 CUDA:0 (NVIDIA GeForce RTX 2070 with Max-Q Design, 7982MiB)\n"
     ]
    },
    {
     "name": "stdout",
     "output_type": "stream",
     "text": [
      "Inference time: 54.62 ms\n",
      "[Ultralytics YOLO <class 'ultralytics.yolo.engine.results.Boxes'> masks\n",
      "type: <class 'torch.Tensor'>\n",
      "shape: torch.Size([6, 6])\n",
      "dtype: torch.float32\n",
      " + tensor([[1.25400e+03, 1.01500e+03, 1.33200e+03, 1.10200e+03, 7.80329e-01, 1.00000e+00],\n",
      "        [1.19600e+03, 1.15700e+03, 1.27500e+03, 1.23900e+03, 7.01876e-01, 1.00000e+00],\n",
      "        [1.25900e+03, 7.69000e+02, 1.33900e+03, 8.49000e+02, 6.97844e-01, 1.00000e+00],\n",
      "        [1.08700e+03, 7.25000e+02, 1.14300e+03, 7.88000e+02, 3.99816e-01, 1.00000e+00],\n",
      "        [1.55300e+03, 1.37600e+03, 1.61400e+03, 1.43400e+03, 2.94997e-01, 1.00000e+00],\n",
      "        [1.61200e+03, 1.30000e+03, 1.65200e+03, 1.34700e+03, 2.75351e-01, 1.00000e+00]], device='cuda:0')]\n"
     ]
    },
    {
     "ename": "",
     "evalue": "",
     "output_type": "error",
     "traceback": [
      "\u001b[1;31mThe Kernel crashed while executing code in the the current cell or a previous cell. Please review the code in the cell(s) to identify a possible cause of the failure. Click <a href='https://aka.ms/vscodeJupyterKernelCrash'>here</a> for more info. View Jupyter <a href='command:jupyter.viewOutput'>log</a> for further details."
     ]
    }
   ],
   "source": [
    "from ultralytics import YOLO\n",
    "import time\n",
    "import cv2\n",
    "\n",
    "model = YOLO(\"/home/msccomputer/development/yolov8/human_and_bouys/weights/best.pt\")  # load a custom trained\n",
    "model.fuse()\n",
    "\n",
    "# Export the model\n",
    "# model.export(format=\"onnx\")\n",
    "\n",
    "im2 = cv2.imread('/home/msccomputer/development/datasets/aofdataset-1/test/images/z1_38_jpg.rf.13a27190a414bdf941a10e631f1100fe.jpg')\n",
    "# im2 = cv2.imread('/home/msccomputer/development/camera_image_380.jpeg')\n",
    "\n",
    "start = time.perf_counter()\n",
    "result = model.predict(source=im2)\n",
    "print(f\"Inference time: {(time.perf_counter() - start)*1000:.2f} ms\")\n",
    "\n",
    "print(result)\n",
    "\n",
    "# Show model info\n",
    "# model.info(verbose=True)"
   ]
  },
  {
   "cell_type": "code",
   "execution_count": null,
   "metadata": {},
   "outputs": [],
   "source": []
  }
 ],
 "metadata": {
  "kernelspec": {
   "display_name": "Python 3.8.10 64-bit",
   "language": "python",
   "name": "python3"
  },
  "language_info": {
   "codemirror_mode": {
    "name": "ipython",
    "version": 3
   },
   "file_extension": ".py",
   "mimetype": "text/x-python",
   "name": "python",
   "nbconvert_exporter": "python",
   "pygments_lexer": "ipython3",
   "version": "3.8.10"
  },
  "orig_nbformat": 4,
  "vscode": {
   "interpreter": {
    "hash": "916dbcbb3f70747c44a77c7bcd40155683ae19c65e1c03b4aa3499c5328201f1"
   }
  }
 },
 "nbformat": 4,
 "nbformat_minor": 2
}
