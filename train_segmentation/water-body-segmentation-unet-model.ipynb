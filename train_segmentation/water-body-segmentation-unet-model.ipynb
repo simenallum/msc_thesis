{
 "cells": [
  {
   "cell_type": "code",
   "execution_count": 11,
   "id": "05fec9f8",
   "metadata": {
    "_cell_guid": "b1076dfc-b9ad-4769-8c92-a6c4dae69d19",
    "_uuid": "8f2839f25d086af736a60e9eeb907d3b93b6e0e5",
    "execution": {
     "iopub.execute_input": "2022-09-21T04:03:28.628998Z",
     "iopub.status.busy": "2022-09-21T04:03:28.628082Z",
     "iopub.status.idle": "2022-09-21T04:03:33.872817Z",
     "shell.execute_reply": "2022-09-21T04:03:33.871837Z"
    },
    "papermill": {
     "duration": 5.259829,
     "end_time": "2022-09-21T04:03:33.875778",
     "exception": false,
     "start_time": "2022-09-21T04:03:28.615949",
     "status": "completed"
    },
    "tags": []
   },
   "outputs": [],
   "source": [
    "# common\n",
    "import os \n",
    "import keras\n",
    "from tqdm import tqdm\n",
    "from glob import glob\n",
    "import tensorflow as tf\n",
    "from numpy import zeros\n",
    "from numpy.random import randint\n",
    "\n",
    "# Data\n",
    "from tensorflow.image import resize\n",
    "from tensorflow.keras.utils import load_img, img_to_array\n",
    "\n",
    "# Data Viz\n",
    "import matplotlib.pyplot as plt\n",
    "\n",
    "# Model\n",
    "from keras.layers import add\n",
    "from keras.layers import Input\n",
    "from keras.layers import Layer\n",
    "from keras.layers import Conv2D\n",
    "from keras.layers import multiply\n",
    "from keras.layers import concatenate\n",
    "from keras.layers import Conv2DTranspose\n",
    "from keras.layers import MaxPool2D\n",
    "from keras.layers import UpSampling2D\n",
    "from keras.layers import BatchNormalization\n",
    "from keras.layers import Dropout\n",
    "\n",
    "# Model Functions\n",
    "from keras.models import Model\n",
    "from tensorflow.keras.utils import plot_model\n",
    "from keras.callbacks import Callback, ModelCheckpoint"
   ]
  },
  {
   "cell_type": "code",
   "execution_count": 13,
   "id": "fb9cb1a0",
   "metadata": {},
   "outputs": [
    {
     "name": "stdout",
     "output_type": "stream",
     "text": [
      "Num GPUs Available:  0\n"
     ]
    }
   ],
   "source": [
    "import tensorflow as tf\n",
    "print(\"Num GPUs Available: \", len(tf.config.list_physical_devices('GPU')))\n"
   ]
  },
  {
   "cell_type": "markdown",
   "id": "0d6d8464",
   "metadata": {
    "papermill": {
     "duration": 0.006426,
     "end_time": "2022-09-21T04:03:33.888530",
     "exception": false,
     "start_time": "2022-09-21T04:03:33.882104",
     "status": "completed"
    },
    "tags": []
   },
   "source": [
    "# **Data**"
   ]
  },
  {
   "cell_type": "markdown",
   "id": "26239c41",
   "metadata": {
    "papermill": {
     "duration": 0.005491,
     "end_time": "2022-09-21T04:03:33.899948",
     "exception": false,
     "start_time": "2022-09-21T04:03:33.894457",
     "status": "completed"
    },
    "tags": []
   },
   "source": [
    "Loading the data."
   ]
  },
  {
   "cell_type": "code",
   "execution_count": 23,
   "id": "8ca3a607",
   "metadata": {
    "execution": {
     "iopub.execute_input": "2022-09-21T04:03:33.912830Z",
     "iopub.status.busy": "2022-09-21T04:03:33.912312Z",
     "iopub.status.idle": "2022-09-21T04:03:33.917466Z",
     "shell.execute_reply": "2022-09-21T04:03:33.916261Z"
    },
    "papermill": {
     "duration": 0.014056,
     "end_time": "2022-09-21T04:03:33.919580",
     "exception": false,
     "start_time": "2022-09-21T04:03:33.905524",
     "status": "completed"
    },
    "tags": []
   },
   "outputs": [],
   "source": [
    "def load_image(path):\n",
    "    img = resize(img_to_array(load_img(path))/255., (256,256))\n",
    "    return img"
   ]
  },
  {
   "cell_type": "code",
   "execution_count": 24,
   "id": "4ca4da4e",
   "metadata": {
    "execution": {
     "iopub.execute_input": "2022-09-21T04:03:33.931897Z",
     "iopub.status.busy": "2022-09-21T04:03:33.931567Z",
     "iopub.status.idle": "2022-09-21T04:03:34.060517Z",
     "shell.execute_reply": "2022-09-21T04:03:34.059550Z"
    },
    "papermill": {
     "duration": 0.138232,
     "end_time": "2022-09-21T04:03:34.063360",
     "exception": false,
     "start_time": "2022-09-21T04:03:33.925128",
     "status": "completed"
    },
    "tags": []
   },
   "outputs": [
    {
     "name": "stdout",
     "output_type": "stream",
     "text": [
      "Total Number of Images : 1526\n"
     ]
    }
   ],
   "source": [
    "image_path = \"/home/msccomputer/Desktop/Water_dataset/train/images\"\n",
    "total_images = len(os.listdir(image_path))\n",
    "print(f\"Total Number of Images : {total_images}\")"
   ]
  },
  {
   "cell_type": "code",
   "execution_count": 25,
   "id": "132a711d",
   "metadata": {
    "execution": {
     "iopub.execute_input": "2022-09-21T04:03:34.077659Z",
     "iopub.status.busy": "2022-09-21T04:03:34.076783Z",
     "iopub.status.idle": "2022-09-21T04:03:34.087932Z",
     "shell.execute_reply": "2022-09-21T04:03:34.087000Z"
    },
    "papermill": {
     "duration": 0.020308,
     "end_time": "2022-09-21T04:03:34.090016",
     "exception": false,
     "start_time": "2022-09-21T04:03:34.069708",
     "status": "completed"
    },
    "tags": []
   },
   "outputs": [],
   "source": [
    "all_image_paths = sorted(glob(image_path + \"/*\"))"
   ]
  },
  {
   "cell_type": "code",
   "execution_count": 26,
   "id": "b2e402b6",
   "metadata": {
    "execution": {
     "iopub.execute_input": "2022-09-21T04:03:34.102832Z",
     "iopub.status.busy": "2022-09-21T04:03:34.102097Z",
     "iopub.status.idle": "2022-09-21T04:03:34.108054Z",
     "shell.execute_reply": "2022-09-21T04:03:34.107097Z"
    },
    "papermill": {
     "duration": 0.014376,
     "end_time": "2022-09-21T04:03:34.109999",
     "exception": false,
     "start_time": "2022-09-21T04:03:34.095623",
     "status": "completed"
    },
    "tags": []
   },
   "outputs": [],
   "source": [
    "def load_data(paths):\n",
    "    images = zeros(shape=(len(paths), 256,256,3))\n",
    "    masks = zeros(shape=(len(paths), 256,256,3))\n",
    "    for i, path in tqdm(enumerate(paths), desc=\"Loading\"):\n",
    "        image = load_image(path)\n",
    "        images[i] = image\n",
    "        \n",
    "        mask_path = path.replace(\"images\", \"annotations\")\n",
    "        mask = load_image(mask_path)\n",
    "        masks[i] = mask\n",
    "    return images, masks"
   ]
  },
  {
   "cell_type": "code",
   "execution_count": 27,
   "id": "9f824d86",
   "metadata": {
    "execution": {
     "iopub.execute_input": "2022-09-21T04:03:34.124481Z",
     "iopub.status.busy": "2022-09-21T04:03:34.123142Z",
     "iopub.status.idle": "2022-09-21T04:04:20.473503Z",
     "shell.execute_reply": "2022-09-21T04:04:20.472143Z"
    },
    "papermill": {
     "duration": 46.359652,
     "end_time": "2022-09-21T04:04:20.475514",
     "exception": false,
     "start_time": "2022-09-21T04:03:34.115862",
     "status": "completed"
    },
    "tags": []
   },
   "outputs": [
    {
     "name": "stderr",
     "output_type": "stream",
     "text": [
      "Loading: 1526it [00:41, 36.34it/s]\n"
     ]
    }
   ],
   "source": [
    "train_paths = all_image_paths\n",
    "X_train, y_train = load_data(train_paths)"
   ]
  },
  {
   "cell_type": "code",
   "execution_count": 28,
   "id": "babae989",
   "metadata": {},
   "outputs": [
    {
     "name": "stdout",
     "output_type": "stream",
     "text": [
      "Total Number of Images : 217\n"
     ]
    }
   ],
   "source": [
    "val_image_path = \"/home/msccomputer/Desktop/Water_dataset/val/images\"\n",
    "total_images = len(os.listdir(val_image_path))\n",
    "print(f\"Total Number of Images : {total_images}\")"
   ]
  },
  {
   "cell_type": "code",
   "execution_count": 29,
   "id": "bc7e6368",
   "metadata": {},
   "outputs": [],
   "source": [
    "val_image_paths = sorted(glob(val_image_path + \"/*\"))"
   ]
  },
  {
   "cell_type": "code",
   "execution_count": 30,
   "id": "abeb0d4d",
   "metadata": {
    "execution": {
     "iopub.execute_input": "2022-09-21T04:04:20.514041Z",
     "iopub.status.busy": "2022-09-21T04:04:20.513453Z",
     "iopub.status.idle": "2022-09-21T04:04:50.857451Z",
     "shell.execute_reply": "2022-09-21T04:04:50.856307Z"
    },
    "papermill": {
     "duration": 30.365282,
     "end_time": "2022-09-21T04:04:50.859469",
     "exception": false,
     "start_time": "2022-09-21T04:04:20.494187",
     "status": "completed"
    },
    "tags": []
   },
   "outputs": [
    {
     "name": "stderr",
     "output_type": "stream",
     "text": [
      "Loading: 217it [00:04, 53.71it/s]\n"
     ]
    }
   ],
   "source": [
    "val_paths = val_image_paths\n",
    "X_val, y_val = load_data(val_paths)"
   ]
  },
  {
   "cell_type": "markdown",
   "id": "83043d04",
   "metadata": {
    "papermill": {
     "duration": 0.028272,
     "end_time": "2022-09-21T04:04:50.916175",
     "exception": false,
     "start_time": "2022-09-21T04:04:50.887903",
     "status": "completed"
    },
    "tags": []
   },
   "source": [
    "# **Data Viz**"
   ]
  },
  {
   "cell_type": "code",
   "execution_count": 32,
   "id": "ed47152d",
   "metadata": {
    "execution": {
     "iopub.execute_input": "2022-09-21T04:04:50.973905Z",
     "iopub.status.busy": "2022-09-21T04:04:50.973058Z",
     "iopub.status.idle": "2022-09-21T04:04:50.979052Z",
     "shell.execute_reply": "2022-09-21T04:04:50.978173Z"
    },
    "papermill": {
     "duration": 0.037424,
     "end_time": "2022-09-21T04:04:50.981085",
     "exception": false,
     "start_time": "2022-09-21T04:04:50.943661",
     "status": "completed"
    },
    "tags": []
   },
   "outputs": [],
   "source": [
    "def show_image(image, title=None):\n",
    "    plt.imshow(image)\n",
    "    plt.title(title)\n",
    "    plt.axis('off')"
   ]
  },
  {
   "cell_type": "code",
   "execution_count": null,
   "id": "d66659fe",
   "metadata": {
    "execution": {
     "iopub.execute_input": "2022-09-21T04:04:51.037308Z",
     "iopub.status.busy": "2022-09-21T04:04:51.037029Z",
     "iopub.status.idle": "2022-09-21T04:04:53.918940Z",
     "shell.execute_reply": "2022-09-21T04:04:53.918109Z"
    },
    "papermill": {
     "duration": 2.915553,
     "end_time": "2022-09-21T04:04:53.924074",
     "exception": false,
     "start_time": "2022-09-21T04:04:51.008521",
     "status": "completed"
    },
    "tags": []
   },
   "outputs": [],
   "source": [
    "for i in range(10):\n",
    "    id = randint(1000)\n",
    "    image, mask = X_train[id], y_train[id]\n",
    "    plt.figure(figsize=(10,8))\n",
    "    \n",
    "    plt.subplot(1,2,1)\n",
    "    show_image(image, title=\"Image\")\n",
    "    \n",
    "    plt.subplot(1,2,2)\n",
    "    show_image(mask, title=\"Mask\")\n",
    "    \n",
    "    plt.tight_layout()\n",
    "    plt.show()"
   ]
  },
  {
   "cell_type": "markdown",
   "id": "989435b6",
   "metadata": {
    "papermill": {
     "duration": 0.058253,
     "end_time": "2022-09-21T04:04:54.043285",
     "exception": false,
     "start_time": "2022-09-21T04:04:53.985032",
     "status": "completed"
    },
    "tags": []
   },
   "source": [
    "By looking at the data we can say that this problem can easily be **generalized by an UNet Model**"
   ]
  },
  {
   "cell_type": "markdown",
   "id": "8933a106",
   "metadata": {
    "papermill": {
     "duration": 0.059533,
     "end_time": "2022-09-21T04:04:54.163750",
     "exception": false,
     "start_time": "2022-09-21T04:04:54.104217",
     "status": "completed"
    },
    "tags": []
   },
   "source": [
    "# **UNet - Encoder**"
   ]
  },
  {
   "cell_type": "markdown",
   "id": "ecfc8339",
   "metadata": {
    "papermill": {
     "duration": 0.058147,
     "end_time": "2022-09-21T04:04:54.281055",
     "exception": false,
     "start_time": "2022-09-21T04:04:54.222908",
     "status": "completed"
    },
    "tags": []
   },
   "source": [
    "**Encoder** reduced the **size of its inputs by 2**. The **ideology** behind **encoder* is that it will learn the **most useful features** present in the **image**, and the **last encoding layer** will be full of the **important features only**, also called as the **latent representations**."
   ]
  },
  {
   "cell_type": "code",
   "execution_count": 6,
   "id": "f5f68fc8",
   "metadata": {
    "execution": {
     "iopub.execute_input": "2022-09-21T04:04:54.402360Z",
     "iopub.status.busy": "2022-09-21T04:04:54.401983Z",
     "iopub.status.idle": "2022-09-21T04:04:54.411210Z",
     "shell.execute_reply": "2022-09-21T04:04:54.410176Z"
    },
    "papermill": {
     "duration": 0.073384,
     "end_time": "2022-09-21T04:04:54.413432",
     "exception": false,
     "start_time": "2022-09-21T04:04:54.340048",
     "status": "completed"
    },
    "tags": []
   },
   "outputs": [],
   "source": [
    "class Encoder(Layer):\n",
    "    \n",
    "    def __init__(self, filters, rate, pooling=True, **kwargs):\n",
    "        super(Encoder, self).__init__(**kwargs)\n",
    "        \n",
    "        self.filters = filters\n",
    "        self.rate = rate\n",
    "        self.pooling = pooling\n",
    "        \n",
    "        self.bn = BatchNormalization()\n",
    "        self.c1 = Conv2D(filters, kernel_size=3, padding='same', activation='relu', kernel_initializer=\"he_normal\")\n",
    "        self.drop = Dropout(rate)\n",
    "        self.c2 = Conv2D(filters, kernel_size=3, padding='same', activation='relu', kernel_initializer=\"he_normal\")\n",
    "        self.pool = MaxPool2D()\n",
    "        \n",
    "    def call(self, X):\n",
    "        x = self.bn(X)\n",
    "        x = self.c1(x)\n",
    "        x = self.drop(x)\n",
    "        x = self.c2(x)\n",
    "        if self.pooling:\n",
    "            y = self.pool(x)\n",
    "            return y, x\n",
    "        else:\n",
    "            return x\n",
    "            \n",
    "    def get_config(self):\n",
    "        base_config = super().get_config()\n",
    "        return {\n",
    "            **base_config,\n",
    "            \"filters\":self.filters,\n",
    "            \"rate\":self.rate,\n",
    "            \"pooling\":self.pooling\n",
    "        }"
   ]
  },
  {
   "cell_type": "markdown",
   "id": "6d964ed0",
   "metadata": {
    "papermill": {
     "duration": 0.059015,
     "end_time": "2022-09-21T04:04:54.531271",
     "exception": false,
     "start_time": "2022-09-21T04:04:54.472256",
     "status": "completed"
    },
    "tags": []
   },
   "source": [
    "# **UNet - Decoder**"
   ]
  },
  {
   "cell_type": "markdown",
   "id": "bce427c0",
   "metadata": {
    "papermill": {
     "duration": 0.059019,
     "end_time": "2022-09-21T04:04:54.650045",
     "exception": false,
     "start_time": "2022-09-21T04:04:54.591026",
     "status": "completed"
    },
    "tags": []
   },
   "source": [
    "As the name suggests, the **Decoder** is just the **opposite of the encoder**, which will **upscale its inputs by 2**. The input to the decoder are the **latent representations** produced by the **encoder**. This means that the **decoder only has access** to the **most useful features**, thus allowing the decoder to focus on **recreating the image** from the **most useful features**. This time the **decoder also takes inputs** from the **encoder** this helps the **decoder to preserve the spatial information** of the **original image**."
   ]
  },
  {
   "cell_type": "code",
   "execution_count": 7,
   "id": "21ba8023",
   "metadata": {
    "execution": {
     "iopub.execute_input": "2022-09-21T04:04:54.771276Z",
     "iopub.status.busy": "2022-09-21T04:04:54.770252Z",
     "iopub.status.idle": "2022-09-21T04:04:54.778829Z",
     "shell.execute_reply": "2022-09-21T04:04:54.777982Z"
    },
    "papermill": {
     "duration": 0.0712,
     "end_time": "2022-09-21T04:04:54.780651",
     "exception": false,
     "start_time": "2022-09-21T04:04:54.709451",
     "status": "completed"
    },
    "tags": []
   },
   "outputs": [],
   "source": [
    "class Decoder(Layer):\n",
    "    \n",
    "    def __init__(self, filters, rate, **kwargs):\n",
    "        super(Decoder, self).__init__(**kwargs)\n",
    "        \n",
    "        self.filters = filters\n",
    "        self.rate = rate\n",
    "        \n",
    "        self.bn = BatchNormalization()\n",
    "        self.cT = Conv2DTranspose(filters, kernel_size=3, strides=2, padding='same', activation='relu', kernel_initializer=\"he_normal\")\n",
    "        self.net = Encoder(filters, rate, pooling=False)\n",
    "        \n",
    "    def call(self, X):\n",
    "        x, skip_x = X\n",
    "        x = self.bn(x)\n",
    "        x = self.cT(x)\n",
    "        x = concatenate([x, skip_x])\n",
    "        x = self.net(x)\n",
    "        return x\n",
    "            \n",
    "    def get_config(self):\n",
    "        base_config = super().get_config()\n",
    "        return {\n",
    "            **base_config,\n",
    "            \"filters\":self.filters,\n",
    "            \"rate\":self.rate,\n",
    "        }"
   ]
  },
  {
   "cell_type": "markdown",
   "id": "9560f30d",
   "metadata": {
    "papermill": {
     "duration": 0.059898,
     "end_time": "2022-09-21T04:04:54.898374",
     "exception": false,
     "start_time": "2022-09-21T04:04:54.838476",
     "status": "completed"
    },
    "tags": []
   },
   "source": [
    "# **UNet - Architecture**"
   ]
  },
  {
   "cell_type": "markdown",
   "id": "afc0e238",
   "metadata": {
    "papermill": {
     "duration": 0.059464,
     "end_time": "2022-09-21T04:04:55.017996",
     "exception": false,
     "start_time": "2022-09-21T04:04:54.958532",
     "status": "completed"
    },
    "tags": []
   },
   "source": [
    "We have our **encoder, decoder ready**. It's time to combine all of them to make a **UNet Model**."
   ]
  },
  {
   "cell_type": "code",
   "execution_count": 8,
   "id": "31dc5db6",
   "metadata": {
    "execution": {
     "iopub.execute_input": "2022-09-21T04:04:55.140651Z",
     "iopub.status.busy": "2022-09-21T04:04:55.140288Z",
     "iopub.status.idle": "2022-09-21T04:04:55.595344Z",
     "shell.execute_reply": "2022-09-21T04:04:55.594418Z"
    },
    "papermill": {
     "duration": 0.519757,
     "end_time": "2022-09-21T04:04:55.597680",
     "exception": false,
     "start_time": "2022-09-21T04:04:55.077923",
     "status": "completed"
    },
    "tags": []
   },
   "outputs": [],
   "source": [
    "# Inputs\n",
    "unet_inputs = Input(shape=(256,256,3), name=\"UNetInput\")\n",
    "\n",
    "# Encoder Network : Downsampling phase\n",
    "p1, c1 = Encoder(64, 0.1, name=\"Encoder1\")(unet_inputs)\n",
    "p2, c2 = Encoder(128, 0.1, name=\"Encoder2\")(p1)\n",
    "p3, c3 = Encoder(256, 0.2, name=\"Encoder3\")(p2)\n",
    "p4, c4 = Encoder(512, 0.2, name=\"Encoder4\")(p3)\n",
    "\n",
    "\n",
    "# Encoding Layer : Latent Representation\n",
    "e = Encoder(512, 0.3, pooling=False)(p4)\n",
    "\n",
    "# Attention + Decoder Network : Upsampling phase.\n",
    "d1 = Decoder(512, 0.2, name=\"Decoder1\")([e, c4])\n",
    "d2 = Decoder(256, 0.2, name=\"Decoder2\")([d1, c3])\n",
    "d3 = Decoder(128, 0.1, name=\"Decoder3\")([d2, c2])\n",
    "d4 = Decoder(64, 0.1, name=\"Decoder4\")([d3, c1])\n",
    "\n",
    "# Output\n",
    "unet_out = Conv2D(3, kernel_size=3, padding='same', activation='sigmoid')(d4)\n",
    "\n",
    "# Model\n",
    "UNet = Model(\n",
    "    inputs=unet_inputs,\n",
    "    outputs=unet_out,\n",
    "    name=\"AttentionUNet\"\n",
    ")\n",
    "\n",
    "# Compiling\n",
    "UNet.compile(\n",
    "    loss='binary_crossentropy',\n",
    "    optimizer='adam'\n",
    ")"
   ]
  },
  {
   "cell_type": "markdown",
   "id": "bf32d71f",
   "metadata": {
    "papermill": {
     "duration": 0.062729,
     "end_time": "2022-09-21T04:04:55.725586",
     "exception": false,
     "start_time": "2022-09-21T04:04:55.662857",
     "status": "completed"
    },
    "tags": []
   },
   "source": [
    "# **UNet - Visualization**"
   ]
  },
  {
   "cell_type": "code",
   "execution_count": 37,
   "id": "41c8750a",
   "metadata": {
    "execution": {
     "iopub.execute_input": "2022-09-21T04:04:55.851259Z",
     "iopub.status.busy": "2022-09-21T04:04:55.850901Z",
     "iopub.status.idle": "2022-09-21T04:04:57.138564Z",
     "shell.execute_reply": "2022-09-21T04:04:57.137417Z"
    },
    "papermill": {
     "duration": 1.353207,
     "end_time": "2022-09-21T04:04:57.142154",
     "exception": false,
     "start_time": "2022-09-21T04:04:55.788947",
     "status": "completed"
    },
    "tags": []
   },
   "outputs": [
    {
     "data": {
      "image/png": "[encoded data removed]",
      "text/plain": [
       "<IPython.core.display.Image object>"
      ]
     },
     "execution_count": 37,
     "metadata": {},
     "output_type": "execute_result"
    }
   ],
   "source": [
    "plot_model(UNet, \"UNet-WaterBody.png\", show_shapes=False)"
   ]
  },
  {
   "cell_type": "markdown",
   "id": "43299e4b",
   "metadata": {
    "papermill": {
     "duration": 0.062507,
     "end_time": "2022-09-21T04:04:57.281573",
     "exception": false,
     "start_time": "2022-09-21T04:04:57.219066",
     "status": "completed"
    },
    "tags": []
   },
   "source": [
    "# **Training**"
   ]
  },
  {
   "cell_type": "code",
   "execution_count": 38,
   "id": "1cfc9eb4",
   "metadata": {
    "execution": {
     "iopub.execute_input": "2022-09-21T04:04:57.410041Z",
     "iopub.status.busy": "2022-09-21T04:04:57.409649Z",
     "iopub.status.idle": "2022-09-21T04:04:57.415099Z",
     "shell.execute_reply": "2022-09-21T04:04:57.414029Z"
    },
    "papermill": {
     "duration": 0.072449,
     "end_time": "2022-09-21T04:04:57.417359",
     "exception": false,
     "start_time": "2022-09-21T04:04:57.344910",
     "status": "completed"
    },
    "tags": []
   },
   "outputs": [],
   "source": [
    "BATCH_SIZE = 16\n",
    "SPE = len(X_train)//BATCH_SIZE"
   ]
  },
  {
   "cell_type": "code",
   "execution_count": 39,
   "id": "3845a001",
   "metadata": {
    "execution": {
     "iopub.execute_input": "2022-09-21T04:04:57.547129Z",
     "iopub.status.busy": "2022-09-21T04:04:57.546754Z",
     "iopub.status.idle": "2022-09-21T04:04:57.554225Z",
     "shell.execute_reply": "2022-09-21T04:04:57.553215Z"
    },
    "papermill": {
     "duration": 0.075913,
     "end_time": "2022-09-21T04:04:57.556322",
     "exception": false,
     "start_time": "2022-09-21T04:04:57.480409",
     "status": "completed"
    },
    "tags": []
   },
   "outputs": [],
   "source": [
    "class ShowProgress(Callback):\n",
    "    def on_epoch_end(self, epoch, logs=None):\n",
    "        id = randint(len(X_val))\n",
    "        image = X_val[id]\n",
    "        mask = y_val[id]\n",
    "        pred_mask = self.model(tf.expand_dims(image,axis=0))[0]\n",
    "        \n",
    "        plt.figure(figsize=(10,8))\n",
    "        plt.subplot(1,3,1)\n",
    "        show_image(image, title=\"Original Image\")\n",
    "        \n",
    "        plt.subplot(1,3,2)\n",
    "        show_image(mask, title=\"Original Mask\")\n",
    "        \n",
    "        plt.subplot(1,3,3)\n",
    "        show_image(pred_mask, title=\"Predicted Mask\")\n",
    "            \n",
    "        plt.tight_layout()\n",
    "        plt.show()"
   ]
  },
  {
   "cell_type": "code",
   "execution_count": 40,
   "id": "9d43cb60",
   "metadata": {
    "execution": {
     "iopub.execute_input": "2022-09-21T04:04:57.684797Z",
     "iopub.status.busy": "2022-09-21T04:04:57.684394Z",
     "iopub.status.idle": "2022-09-21T04:04:57.689459Z",
     "shell.execute_reply": "2022-09-21T04:04:57.688355Z"
    },
    "papermill": {
     "duration": 0.071706,
     "end_time": "2022-09-21T04:04:57.691589",
     "exception": false,
     "start_time": "2022-09-21T04:04:57.619883",
     "status": "completed"
    },
    "tags": []
   },
   "outputs": [],
   "source": [
    "cbs = [\n",
    "    ModelCheckpoint(\"UNet-WaterBodySegmentation.h5\", save_best_only=True),\n",
    "    ShowProgress()\n",
    "]"
   ]
  },
  {
   "cell_type": "code",
   "execution_count": null,
   "id": "eaec432a",
   "metadata": {
    "execution": {
     "iopub.execute_input": "2022-09-21T04:04:57.820773Z",
     "iopub.status.busy": "2022-09-21T04:04:57.820323Z",
     "iopub.status.idle": "2022-09-21T04:17:26.270624Z",
     "shell.execute_reply": "2022-09-21T04:17:26.269577Z"
    },
    "papermill": {
     "duration": 748.520184,
     "end_time": "2022-09-21T04:17:26.275668",
     "exception": false,
     "start_time": "2022-09-21T04:04:57.755484",
     "status": "completed"
    },
    "tags": []
   },
   "outputs": [],
   "source": [
    "UNet.fit(\n",
    "    X_train, y_train,\n",
    "    epochs=20,\n",
    "    batch_size=BATCH_SIZE,\n",
    "    steps_per_epoch=SPE,\n",
    "    validation_data=(X_val, y_val),\n",
    "    callbacks=cbs\n",
    ")"
   ]
  },
  {
   "cell_type": "markdown",
   "id": "0c1d8208",
   "metadata": {
    "papermill": {
     "duration": 0.253579,
     "end_time": "2022-09-21T04:17:26.853799",
     "exception": false,
     "start_time": "2022-09-21T04:17:26.600220",
     "status": "completed"
    },
    "tags": []
   },
   "source": [
    "The **Model** gradually got improved over the course of training. The model could be **even better** with **more training**."
   ]
  },
  {
   "cell_type": "code",
   "execution_count": 9,
   "id": "466e2065",
   "metadata": {
    "execution": {
     "iopub.execute_input": "2022-09-21T04:17:27.229193Z",
     "iopub.status.busy": "2022-09-21T04:17:27.228638Z",
     "iopub.status.idle": "2022-09-21T04:17:35.857742Z",
     "shell.execute_reply": "2022-09-21T04:17:35.856703Z"
    },
    "papermill": {
     "duration": 8.821568,
     "end_time": "2022-09-21T04:17:35.861196",
     "exception": false,
     "start_time": "2022-09-21T04:17:27.039628",
     "status": "completed"
    },
    "tags": []
   },
   "outputs": [
    {
     "ename": "ValueError",
     "evalue": "Unknown layer: 'Encoder'. Please ensure you are using a `keras.utils.custom_object_scope` and that this object is included in the scope. See https://www.tensorflow.org/guide/keras/save_and_serialize#registering_the_custom_object for details.",
     "output_type": "error",
     "traceback": [
      "\u001b[0;31m---------------------------------------------------------------------------\u001b[0m",
      "\u001b[0;31mValueError\u001b[0m                                Traceback (most recent call last)",
      "Cell \u001b[0;32mIn [9], line 1\u001b[0m\n\u001b[0;32m----> 1\u001b[0m Unet \u001b[39m=\u001b[39m keras\u001b[39m.\u001b[39mmodels\u001b[39m.\u001b[39mload_model(\u001b[39m'\u001b[39m\u001b[39m/home/msccomputer/catkin_ws/src/msc_thesis/train_segmentation/UNet-WaterBodySegmentation.h5\u001b[39m\u001b[39m'\u001b[39m)\n\u001b[1;32m      4\u001b[0m \u001b[39mfor\u001b[39;00m i \u001b[39min\u001b[39;00m \u001b[39mrange\u001b[39m(\u001b[39m20\u001b[39m):\n\u001b[1;32m      5\u001b[0m     \u001b[39mid\u001b[39m \u001b[39m=\u001b[39m randint(\u001b[39mlen\u001b[39m(X_val))\n",
      "File \u001b[0;32m~/.local/lib/python3.8/site-packages/keras/utils/traceback_utils.py:70\u001b[0m, in \u001b[0;36mfilter_traceback.<locals>.error_handler\u001b[0;34m(*args, **kwargs)\u001b[0m\n\u001b[1;32m     67\u001b[0m     filtered_tb \u001b[39m=\u001b[39m _process_traceback_frames(e\u001b[39m.\u001b[39m__traceback__)\n\u001b[1;32m     68\u001b[0m     \u001b[39m# To get the full stack trace, call:\u001b[39;00m\n\u001b[1;32m     69\u001b[0m     \u001b[39m# `tf.debugging.disable_traceback_filtering()`\u001b[39;00m\n\u001b[0;32m---> 70\u001b[0m     \u001b[39mraise\u001b[39;00m e\u001b[39m.\u001b[39mwith_traceback(filtered_tb) \u001b[39mfrom\u001b[39;00m \u001b[39mNone\u001b[39m\n\u001b[1;32m     71\u001b[0m \u001b[39mfinally\u001b[39;00m:\n\u001b[1;32m     72\u001b[0m     \u001b[39mdel\u001b[39;00m filtered_tb\n",
      "File \u001b[0;32m~/.local/lib/python3.8/site-packages/keras/saving/legacy/serialization.py:385\u001b[0m, in \u001b[0;36mclass_and_config_for_serialized_keras_object\u001b[0;34m(config, module_objects, custom_objects, printable_module_name)\u001b[0m\n\u001b[1;32m    381\u001b[0m \u001b[39mcls\u001b[39m \u001b[39m=\u001b[39m object_registration\u001b[39m.\u001b[39mget_registered_object(\n\u001b[1;32m    382\u001b[0m     class_name, custom_objects, module_objects\n\u001b[1;32m    383\u001b[0m )\n\u001b[1;32m    384\u001b[0m \u001b[39mif\u001b[39;00m \u001b[39mcls\u001b[39m \u001b[39mis\u001b[39;00m \u001b[39mNone\u001b[39;00m:\n\u001b[0;32m--> 385\u001b[0m     \u001b[39mraise\u001b[39;00m \u001b[39mValueError\u001b[39;00m(\n\u001b[1;32m    386\u001b[0m         \u001b[39mf\u001b[39m\u001b[39m\"\u001b[39m\u001b[39mUnknown \u001b[39m\u001b[39m{\u001b[39;00mprintable_module_name\u001b[39m}\u001b[39;00m\u001b[39m: \u001b[39m\u001b[39m'\u001b[39m\u001b[39m{\u001b[39;00mclass_name\u001b[39m}\u001b[39;00m\u001b[39m'\u001b[39m\u001b[39m. \u001b[39m\u001b[39m\"\u001b[39m\n\u001b[1;32m    387\u001b[0m         \u001b[39m\"\u001b[39m\u001b[39mPlease ensure you are using a `keras.utils.custom_object_scope` \u001b[39m\u001b[39m\"\u001b[39m\n\u001b[1;32m    388\u001b[0m         \u001b[39m\"\u001b[39m\u001b[39mand that this object is included in the scope. See \u001b[39m\u001b[39m\"\u001b[39m\n\u001b[1;32m    389\u001b[0m         \u001b[39m\"\u001b[39m\u001b[39mhttps://www.tensorflow.org/guide/keras/save_and_serialize\u001b[39m\u001b[39m\"\u001b[39m\n\u001b[1;32m    390\u001b[0m         \u001b[39m\"\u001b[39m\u001b[39m#registering_the_custom_object for details.\u001b[39m\u001b[39m\"\u001b[39m\n\u001b[1;32m    391\u001b[0m     )\n\u001b[1;32m    393\u001b[0m cls_config \u001b[39m=\u001b[39m config[\u001b[39m\"\u001b[39m\u001b[39mconfig\u001b[39m\u001b[39m\"\u001b[39m]\n\u001b[1;32m    394\u001b[0m \u001b[39m# Check if `cls_config` is a list. If it is a list, return the class and the\u001b[39;00m\n\u001b[1;32m    395\u001b[0m \u001b[39m# associated class configs for recursively deserialization. This case will\u001b[39;00m\n\u001b[1;32m    396\u001b[0m \u001b[39m# happen on the old version of sequential model (e.g. `keras_version` ==\u001b[39;00m\n\u001b[1;32m    397\u001b[0m \u001b[39m# \"2.0.6\"), which is serialized in a different structure, for example\u001b[39;00m\n\u001b[1;32m    398\u001b[0m \u001b[39m# \"{'class_name': 'Sequential',\u001b[39;00m\n\u001b[1;32m    399\u001b[0m \u001b[39m#   'config': [{'class_name': 'Embedding', 'config': ...}, {}, ...]}\".\u001b[39;00m\n",
      "\u001b[0;31mValueError\u001b[0m: Unknown layer: 'Encoder'. Please ensure you are using a `keras.utils.custom_object_scope` and that this object is included in the scope. See https://www.tensorflow.org/guide/keras/save_and_serialize#registering_the_custom_object for details."
     ]
    }
   ],
   "source": [
    "Unet = keras.models.load_model('/home/msccomputer/catkin_ws/src/msc_thesis/train_segmentation/UNet-WaterBodySegmentation.h5')\n",
    "\n",
    "\n",
    "for i in range(20):\n",
    "    id = randint(len(X_val))\n",
    "    image = X_val[id]\n",
    "    mask = y_val[id]\n",
    "    pred_mask = UNet.predict(tf.expand_dims(image,axis=0))[0]\n",
    "    post_process = (pred_mask[:,:,0] > 0.5).astype('int')\n",
    "        \n",
    "    plt.figure(figsize=(10,8))\n",
    "    plt.subplot(1,4,1)\n",
    "    show_image(image, title=\"Original Image\")\n",
    "        \n",
    "    plt.subplot(1,4,2)\n",
    "    show_image(mask, title=\"Original Mask\")\n",
    "        \n",
    "    plt.subplot(1,4,3)\n",
    "    show_image(pred_mask, title=\"Predicted Mask\")\n",
    "    \n",
    "    plt.subplot(1,4,4)\n",
    "    show_image(post_process, title=\"Post=Processed Mask\")\n",
    "    \n",
    "    \n",
    "    plt.tight_layout()\n",
    "    plt.show()"
   ]
  },
  {
   "cell_type": "markdown",
   "id": "9789b1da",
   "metadata": {
    "papermill": {
     "duration": 0.222855,
     "end_time": "2022-09-21T04:17:36.352784",
     "exception": false,
     "start_time": "2022-09-21T04:17:36.129929",
     "status": "completed"
    },
    "tags": []
   },
   "source": [
    "The model easily **segments water** when the **water is present at natural locations** but it **gets confused** when the water is present at **artificial locations**.\n",
    "\n",
    "* I tried out **Attention UNet** but it **doesn't seems to work well**.\n",
    "\n",
    "**Thank You!!!**\n",
    "\n",
    "---\n",
    "**DeepNets**"
   ]
  }
 ],
 "metadata": {
  "kernelspec": {
   "display_name": "Python 3",
   "language": "python",
   "name": "python3"
  },
  "language_info": {
   "codemirror_mode": {
    "name": "ipython",
    "version": 3
   },
   "file_extension": ".py",
   "mimetype": "text/x-python",
   "name": "python",
   "nbconvert_exporter": "python",
   "pygments_lexer": "ipython3",
   "version": "3.8.10"
  },
  "papermill": {
   "default_parameters": {},
   "duration": 859.778114,
   "end_time": "2022-09-21T04:17:40.391591",
   "environment_variables": {},
   "exception": null,
   "input_path": "__notebook__.ipynb",
   "output_path": "__notebook__.ipynb",
   "parameters": {},
   "start_time": "2022-09-21T04:03:20.613477",
   "version": "2.3.4"
  },
  "vscode": {
   "interpreter": {
    "hash": "916dbcbb3f70747c44a77c7bcd40155683ae19c65e1c03b4aa3499c5328201f1"
   }
  }
 },
 "nbformat": 4,
 "nbformat_minor": 5
}
