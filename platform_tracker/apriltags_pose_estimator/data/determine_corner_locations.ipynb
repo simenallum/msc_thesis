{
 "cells": [
  {
   "attachments": {},
   "cell_type": "markdown",
   "metadata": {},
   "source": [
    "# Helper filer for making the .txt file for the AprilTag marker locations."
   ]
  },
  {
   "cell_type": "code",
   "execution_count": 1,
   "metadata": {},
   "outputs": [],
   "source": [
    "import numpy as np"
   ]
  },
  {
   "cell_type": "code",
   "execution_count": 3,
   "metadata": {},
   "outputs": [],
   "source": [
    "tags_centers = {\n",
    "    '0': np.array([-0.22, 0]),\n",
    "    '1': np.array([0.069, -0.185]),\n",
    "    '2': np.array([0.0, 0.0]),\n",
    "    '3': np.array([-0.048, 0.089]),\n",
    "    '4': np.array([0.111, 0.033]),\n",
    "    '5': np.array([0.312, 0.0]),\n",
    "    '6': np.array([0.20, 0.155]),\n",
    "    '7': np.array([0.0, 0.318])\n",
    "}\n",
    "\n",
    "tags_size = {\n",
    "    '0': 0.28,\n",
    "    '1': 0.28,\n",
    "    '2': 0.056,\n",
    "    '3': 0.056,\n",
    "    '4': 0.056,\n",
    "    '5': 0.112,\n",
    "    '6': 0.112,\n",
    "    '7': 0.112\n",
    "}"
   ]
  },
  {
   "cell_type": "code",
   "execution_count": null,
   "metadata": {},
   "outputs": [],
   "source": [
    "for tag_id in tags_centers:\n",
    "    corner_dist = 4* (tags_size[tag_id] / 10)\n",
    "    print(f\"Corner id: {tag_id}\")\n",
    "    print(f\"Corner {0}: X -> {tags_centers[tag_id][0] + corner_dist:.4f}, Y ->  {tags_centers[tag_id][1] - corner_dist:.4f}\")\n",
    "    print(f\"Corner {1}: X -> {tags_centers[tag_id][0] + corner_dist:.4f}, Y ->  {tags_centers[tag_id][1] + corner_dist:.4f}\")\n",
    "    print(f\"Corner {2}: X -> {tags_centers[tag_id][0] - corner_dist:.4f}, Y ->  {tags_centers[tag_id][1] + corner_dist:.4f}\")\n",
    "    print(f\"Corner {3}: X -> {tags_centers[tag_id][0] - corner_dist:.4f}, Y ->  {tags_centers[tag_id][1] - corner_dist:.4f}\")\n",
    "    print(\"\")\n",
    "\n",
    "    \n"
   ]
  },
  {
   "cell_type": "code",
   "execution_count": 22,
   "metadata": {},
   "outputs": [
    {
     "name": "stdout",
     "output_type": "stream",
     "text": [
      "X:\n",
      "-0.1080 -0.1080 -0.3320 -0.3320 0.1810 0.1810 -0.0430 -0.0430 0.0224 0.0224 -0.0224 -0.0224 -0.0256 -0.0256 -0.0704 -0.0704 0.1334 0.1334 0.0886 0.0886 0.3568 0.3568 0.2672 0.2672 0.2448 0.2448 0.1552 0.1552 0.0448 0.0448 -0.0448 -0.0448 \n",
      "Y:\n",
      "-0.1120 0.1120 0.1120 -0.1120 -0.2970 -0.0730 -0.0730 -0.2970 -0.0224 0.0224 0.0224 -0.0224 0.0666 0.1114 0.1114 0.0666 0.0106 0.0554 0.0554 0.0106 -0.0448 0.0448 0.0448 -0.0448 0.1102 0.1998 0.1998 0.1102 0.2732 0.3628 0.3628 0.2732 "
     ]
    }
   ],
   "source": [
    "x = []\n",
    "y = []\n",
    "\n",
    "for tag_id in tags_centers:\n",
    "    corner_dist = 4* (tags_size[tag_id] / 10)\n",
    "    x.append(tags_centers[tag_id][0] + corner_dist)\n",
    "    x.append(tags_centers[tag_id][0] + corner_dist)\n",
    "    x.append(tags_centers[tag_id][0] - corner_dist)\n",
    "    x.append(tags_centers[tag_id][0] - corner_dist)\n",
    "    \n",
    "    y.append(tags_centers[tag_id][1] - corner_dist)\n",
    "    y.append(tags_centers[tag_id][1] + corner_dist)\n",
    "    y.append(tags_centers[tag_id][1] + corner_dist)\n",
    "    y.append(tags_centers[tag_id][1] - corner_dist)\n",
    "\n",
    "print(\"X:\")\n",
    "for ele in x:\n",
    "    print(f\"{ele:.4f}\", end = ' ')\n",
    "\n",
    "print(\"\\nY:\")\n",
    "for ele in y:\n",
    "    print(f\"{ele:.4f}\", end = ' ')\n"
   ]
  }
 ],
 "metadata": {
  "kernelspec": {
   "display_name": "Python 3",
   "language": "python",
   "name": "python3"
  },
  "language_info": {
   "codemirror_mode": {
    "name": "ipython",
    "version": 3
   },
   "file_extension": ".py",
   "mimetype": "text/x-python",
   "name": "python",
   "nbconvert_exporter": "python",
   "pygments_lexer": "ipython3",
   "version": "3.8.10"
  },
  "orig_nbformat": 4
 },
 "nbformat": 4,
 "nbformat_minor": 2
}
