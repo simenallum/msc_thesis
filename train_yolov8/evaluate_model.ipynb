{
 "cells": [
  {
   "attachments": {},
   "cell_type": "markdown",
   "metadata": {},
   "source": [
    "# Evaluate "
   ]
  },
  {
   "cell_type": "code",
   "execution_count": null,
   "metadata": {},
   "outputs": [],
   "source": [
    "from ultralytics import YOLO\n",
    "\n",
    "model = YOLO(\"/home/msccomputer/catkin_ws/src/msc_thesis/train_yolov8/yolov8/small_model/weights/best.pt\")\n",
    "# It'll use the data yaml file in model.pt if you don't set data.\n",
    "# model.val()\n",
    "# or you can set the data you want to val\n",
    "model.val(data=\"/home/msccomputer/Desktop/msc_dataset/test.yaml\", iou=0.7, device=0, plots=True, batch=1)\n"
   ]
  },
  {
   "attachments": {},
   "cell_type": "markdown",
   "metadata": {},
   "source": [
    "# Predict on images"
   ]
  },
  {
   "cell_type": "code",
   "execution_count": null,
   "metadata": {},
   "outputs": [],
   "source": [
    "\n",
    "\n",
    "from ultralytics import YOLO\n",
    "from PIL import Image\n",
    "import cv2\n",
    "\n",
    "model = YOLO(\"/home/msccomputer/catkin_ws/src/msc_thesis/train_yolov8/yolov8/nano_model/weights/best.pt\")\n",
    "\n",
    "# model.predict(source=\"/home/msccomputer/Desktop/test.png\", save=True, iou=0.4) # Display preds. Accepts all YOLO predict arguments\n",
    "\n",
    "\n",
    "model.predict(source=\"/home/msccomputer/Desktop/msc_dataset/test/images\", save=True, iou=0.7) # Display preds. Accepts all YOLO predict arguments\n",
    "\n"
   ]
  }
 ],
 "metadata": {
  "kernelspec": {
   "display_name": "Python 3",
   "language": "python",
   "name": "python3"
  },
  "language_info": {
   "codemirror_mode": {
    "name": "ipython",
    "version": 3
   },
   "file_extension": ".py",
   "mimetype": "text/x-python",
   "name": "python",
   "nbconvert_exporter": "python",
   "pygments_lexer": "ipython3",
   "version": "3.8.10"
  },
  "orig_nbformat": 4,
  "vscode": {
   "interpreter": {
    "hash": "916dbcbb3f70747c44a77c7bcd40155683ae19c65e1c03b4aa3499c5328201f1"
   }
  }
 },
 "nbformat": 4,
 "nbformat_minor": 2
}
