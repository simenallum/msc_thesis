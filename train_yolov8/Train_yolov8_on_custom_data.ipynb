{
  "cells": [
    {
      "cell_type": "markdown",
      "metadata": {
        "id": "uj3_J287gPSV"
      },
      "source": [
        "# Check that GPU is utilized"
      ]
    },
    {
      "cell_type": "code",
      "execution_count": 1,
      "metadata": {
        "colab": {
          "base_uri": "https://localhost:8080/"
        },
        "id": "HCD9R9-If5we",
        "outputId": "ba637bf6-5a8a-406d-92ad-802ccd6e295f"
      },
      "outputs": [
        {
          "name": "stdout",
          "output_type": "stream",
          "text": [
            "Thu Feb 23 16:34:57 2023       \n",
            "+-----------------------------------------------------------------------------+\n",
            "| NVIDIA-SMI 515.65.01    Driver Version: 515.65.01    CUDA Version: 11.7     |\n",
            "|-------------------------------+----------------------+----------------------+\n",
            "| GPU  Name        Persistence-M| Bus-Id        Disp.A | Volatile Uncorr. ECC |\n",
            "| Fan  Temp  Perf  Pwr:Usage/Cap|         Memory-Usage | GPU-Util  Compute M. |\n",
            "|                               |                      |               MIG M. |\n",
            "|===============================+======================+======================|\n",
            "|   0  NVIDIA GeForce ...  Off  | 00000000:01:00.0 Off |                  N/A |\n",
            "| N/A   35C    P0    17W /  N/A |      5MiB /  8192MiB |      0%      Default |\n",
            "|                               |                      |                  N/A |\n",
            "+-------------------------------+----------------------+----------------------+\n",
            "                                                                               \n",
            "+-----------------------------------------------------------------------------+\n",
            "| Processes:                                                                  |\n",
            "|  GPU   GI   CI        PID   Type   Process name                  GPU Memory |\n",
            "|        ID   ID                                                   Usage      |\n",
            "|=============================================================================|\n",
            "|    0   N/A  N/A      1183      G   /usr/lib/xorg/Xorg                  4MiB |\n",
            "+-----------------------------------------------------------------------------+\n"
          ]
        }
      ],
      "source": [
        "!nvidia-smi\n",
        "\n"
      ]
    },
    {
      "cell_type": "markdown",
      "metadata": {
        "id": "Abu-Vbbmjaq8"
      },
      "source": [
        "# Setup \"Comet ML\" logger"
      ]
    },
    {
      "cell_type": "code",
      "execution_count": 2,
      "metadata": {
        "colab": {
          "base_uri": "https://localhost:8080/"
        },
        "id": "SC0xAZjLldRe",
        "outputId": "e22dd0bd-4b40-4fac-b473-b9f37b61f749"
      },
      "outputs": [
        {
          "name": "stdout",
          "output_type": "stream",
          "text": [
            "env: COMET_API_KEY=79BXVx7jwrMIEl1oMffPuFrpq\n"
          ]
        }
      ],
      "source": [
        "# import comet_ml\n",
        "\n",
        "# %env COMET_API_KEY=79BXVx7jwrMIEl1oMffPuFrpq"
      ]
    },
    {
      "attachments": {},
      "cell_type": "markdown",
      "metadata": {},
      "source": [
        "# Clear ML logging"
      ]
    },
    {
      "cell_type": "code",
      "execution_count": 2,
      "metadata": {},
      "outputs": [
        {
          "name": "stdout",
          "output_type": "stream",
          "text": [
            "env: CLEARML_WEB_HOST=https://app.clear.ml\n",
            "env: CLEARML_API_HOST=https://api.clear.ml\n",
            "env: CLEARML_FILES_HOST=https://files.clear.ml\n",
            "env: CLEARML_API_ACCESS_KEY=6IB1Q87P4S3S9ALYVGK9\n",
            "env: CLEARML_API_SECRET_KEY=9xsej923TOacULAenCQADNBJTU9r4dvYDgYx9Fue4Vt8SPGDu1\n"
          ]
        }
      ],
      "source": [
        "%env CLEARML_WEB_HOST=https://app.clear.ml\n",
        "%env CLEARML_API_HOST=https://api.clear.ml\n",
        "%env CLEARML_FILES_HOST=https://files.clear.ml\n",
        "%env CLEARML_API_ACCESS_KEY=6IB1Q87P4S3S9ALYVGK9\n",
        "%env CLEARML_API_SECRET_KEY=9xsej923TOacULAenCQADNBJTU9r4dvYDgYx9Fue4Vt8SPGDu1"
      ]
    },
    {
      "cell_type": "markdown",
      "metadata": {},
      "source": [
        "# Download data"
      ]
    },
    {
      "cell_type": "code",
      "execution_count": null,
      "metadata": {},
      "outputs": [],
      "source": [
        "\n",
        "# from roboflow import Roboflow\n",
        "# rf = Roboflow(api_key=\"IfSniUoQSKtITT11gBLP\")\n",
        "# project = rf.workspace(\"mscthesis\").project(\"aofdataset\")\n",
        "# dataset = project.version(2).download(\"yolov8\")\n"
      ]
    },
    {
      "cell_type": "markdown",
      "metadata": {
        "id": "VTGxiT2Wk-uN"
      },
      "source": [
        "# Run training"
      ]
    },
    {
      "cell_type": "code",
      "execution_count": 3,
      "metadata": {
        "id": "pYzFGxzexYLG"
      },
      "outputs": [],
      "source": [
        "arguments = {\n",
        "    # 'model': 'yolov8n.yaml', # i.e. yolov8n.pt, yolov8n.yaml. Path to model file\n",
        "    'data': \"/home/msccomputer/Desktop/msc_dataset/data.yaml\", # i.e. coco128.yaml. Path to data file\n",
        "    'epochs': 400, # number of epochs to train for\n",
        "    'patience': 5,  # epochs to wait for no observable improvement for early stopping of training\n",
        "    'batch': 4, # number of images per batch\n",
        "    'imgsz': 1280, # size of input images\n",
        "    'save': True, # save checkpoints\n",
        "    'cache': False, # True/ram, disk or False. Use cache for data loading\n",
        "    'device': '', # cuda device, i.e. 0 or 0,1,2,3 or cpu. Device to run on\n",
        "    'workers': 8, # number of worker threads for data loading\n",
        "    'project': 'yolov8', # project name\n",
        "    'name': 'adam_optimizer', # experiment name\n",
        "    'exist_ok': False, # whether to overwrite existing experiment\n",
        "    'pretrained': False, # whether to use a pretrained model\n",
        "    'optimizer': 'Adam', # optimizer to use, choices=['SGD', 'Adam', 'AdamW', 'RMSProp']\n",
        "    'verbose': False, # whether to print verbose output\n",
        "    'seed': 1, # random seed for reproducibility\n",
        "    'deterministic': True, # whether to enable deterministic mode\n",
        "    'single_cls': False, # train multi-class data as single-class\n",
        "    'image_weights': False, # use weighted image selection for training\n",
        "    'rect': False, # support rectangular training\n",
        "    'cos_lr': False, # use cosine learning rate scheduler\n",
        "    'close_mosaic': 10, # disable mosaic augmentation for final 10 epochs\n",
        "    'resume': False, # resume training from last checkpoint\n",
        "    'v5loader': False, \n",
        "    # Segmentation\n",
        "    'overlap_mask': True, # masks should overlap during training\n",
        "    'mask_ratio': 4, # mask downsample ratio\n",
        "    # Classification\n",
        "    'dropout': 0.0  # use dropout regularization\n",
        "}"
      ]
    },
    {
      "cell_type": "code",
      "execution_count": 4,
      "metadata": {
        "colab": {
          "base_uri": "https://localhost:8080/",
          "height": 1000,
          "referenced_widgets": [
            "7ca8eed5c617471ba7ae80fdc0e2450d",
            "6f79aabe79a14db5b8297266fc5d8a23",
            "ae6f91c05cbe495c8146723b8b2bb4bb",
            "109379c39fc24537957dc3fb903762ab",
            "67222d7e16d04c55b3f27b9bf65ed01c",
            "3b4c1d7491114f94bfa0f196a92b0b70",
            "f351b893ab7f43bab70b1a1a143b9aad",
            "4681a69715ef450984db5bb162540cc9",
            "5b75f907e2a046f38b7ff45d166473c0",
            "248eae2c057a46e7b99383bae404ed8f",
            "61dc706c7c414d8dbe70329638767173"
          ]
        },
        "id": "DGIgoxCWk_7d",
        "outputId": "83741fd2-2a88-4296-82a7-b4b390e56c2a"
      },
      "outputs": [
        {
          "name": "stderr",
          "output_type": "stream",
          "text": [
            "Ultralytics YOLOv8.0.36 🚀 Python-3.8.10 torch-1.13.1+cu117 CUDA:0 (NVIDIA GeForce RTX 2070 with Max-Q Design, 7982MiB)\n",
            "\u001b[34m\u001b[1myolo/engine/trainer: \u001b[0mtask=detect, mode=train, model=yolov8n.yaml, data=/home/msccomputer/Desktop/msc_dataset/data.yaml, epochs=400, patience=5, batch=4, imgsz=1280, save=True, save_period=-1, cache=False, device=, workers=8, project=yolov8, name=adamW_optimizer, exist_ok=False, pretrained=False, optimizer=AdamW, verbose=False, seed=0, deterministic=True, single_cls=False, image_weights=False, rect=False, cos_lr=False, close_mosaic=10, resume=False, min_memory=False, overlap_mask=True, mask_ratio=4, dropout=0.0, val=True, split=val, save_json=False, save_hybrid=False, conf=0.001, iou=0.7, max_det=300, half=False, dnn=False, plots=True, source=ultralytics/assets/, show=False, save_txt=False, save_conf=False, save_crop=False, hide_labels=False, hide_conf=False, vid_stride=1, line_thickness=3, visualize=False, augment=False, agnostic_nms=False, classes=None, retina_masks=False, boxes=True, format=torchscript, keras=False, optimize=False, int8=False, dynamic=False, simplify=False, opset=None, workspace=4, nms=False, lr0=0.01, lrf=0.01, momentum=0.937, weight_decay=0.001, warmup_epochs=3.0, warmup_momentum=0.8, warmup_bias_lr=0.1, box=7.5, cls=0.5, dfl=1.5, fl_gamma=0.0, label_smoothing=0.0, nbs=64, hsv_h=0.015, hsv_s=0.7, hsv_v=0.4, degrees=0.0, translate=0.1, scale=0.5, shear=0.0, perspective=0.0, flipud=0.0, fliplr=0.5, mosaic=1.0, mixup=0.0, copy_paste=0.0, cfg=None, v5loader=False, save_dir=yolov8/adamW_optimizer\n",
            "Overriding model.yaml nc=80 with nc=2\n",
            "\n",
            "                   from  n    params  module                                       arguments                     \n",
            "  0                  -1  1       464  ultralytics.nn.modules.Conv                  [3, 16, 3, 2]                 \n",
            "  1                  -1  1      4672  ultralytics.nn.modules.Conv                  [16, 32, 3, 2]                \n",
            "  2                  -1  1      7360  ultralytics.nn.modules.C2f                   [32, 32, 1, True]             \n",
            "  3                  -1  1     18560  ultralytics.nn.modules.Conv                  [32, 64, 3, 2]                \n",
            "  4                  -1  2     49664  ultralytics.nn.modules.C2f                   [64, 64, 2, True]             \n",
            "  5                  -1  1     73984  ultralytics.nn.modules.Conv                  [64, 128, 3, 2]               \n",
            "  6                  -1  2    197632  ultralytics.nn.modules.C2f                   [128, 128, 2, True]           \n",
            "  7                  -1  1    295424  ultralytics.nn.modules.Conv                  [128, 256, 3, 2]              \n",
            "  8                  -1  1    460288  ultralytics.nn.modules.C2f                   [256, 256, 1, True]           \n",
            "  9                  -1  1    164608  ultralytics.nn.modules.SPPF                  [256, 256, 5]                 \n",
            " 10                  -1  1         0  torch.nn.modules.upsampling.Upsample         [None, 2, 'nearest']          \n",
            " 11             [-1, 6]  1         0  ultralytics.nn.modules.Concat                [1]                           \n",
            " 12                  -1  1    148224  ultralytics.nn.modules.C2f                   [384, 128, 1]                 \n",
            " 13                  -1  1         0  torch.nn.modules.upsampling.Upsample         [None, 2, 'nearest']          \n",
            " 14             [-1, 4]  1         0  ultralytics.nn.modules.Concat                [1]                           \n",
            " 15                  -1  1     37248  ultralytics.nn.modules.C2f                   [192, 64, 1]                  \n",
            " 16                  -1  1     36992  ultralytics.nn.modules.Conv                  [64, 64, 3, 2]                \n",
            " 17            [-1, 12]  1         0  ultralytics.nn.modules.Concat                [1]                           \n",
            " 18                  -1  1    123648  ultralytics.nn.modules.C2f                   [192, 128, 1]                 \n",
            " 19                  -1  1    147712  ultralytics.nn.modules.Conv                  [128, 128, 3, 2]              \n",
            " 20             [-1, 9]  1         0  ultralytics.nn.modules.Concat                [1]                           \n",
            " 21                  -1  1    493056  ultralytics.nn.modules.C2f                   [384, 256, 1]                 \n",
            " 22        [15, 18, 21]  1    751702  ultralytics.nn.modules.Detect                [2, [64, 128, 256]]           \n",
            "Model summary: 225 layers, 3011238 parameters, 3011222 gradients, 8.2 GFLOPs\n",
            "\n",
            "Transferred 319/355 items from pretrained weights\n"
          ]
        },
        {
          "name": "stdout",
          "output_type": "stream",
          "text": [
            "ClearML Task: created new task id=f76a71071bd445a2a630ba79c8659417\n",
            "2023-02-22 11:52:14,715 - clearml.Task - INFO - Storing jupyter notebook directly as code\n",
            "2023-02-22 11:52:14,919 - clearml.Repository Detection - WARNING - Could not read Jupyter Notebook: cannot import name 'PLUGINS' from 'mistune' (/home/msccomputer/.local/lib/python3.8/site-packages/mistune.py)\n",
            "ClearML results page: https://app.clear.ml/projects/b028c274abb54df08c26737a2da68f47/experiments/f76a71071bd445a2a630ba79c8659417/output/log\n"
          ]
        },
        {
          "name": "stderr",
          "output_type": "stream",
          "text": [
            "\u001b[34m\u001b[1moptimizer:\u001b[0m AdamW(lr=0.01) with parameter groups 57 weight(decay=0.0), 64 weight(decay=0.001), 63 bias\n",
            "\u001b[34m\u001b[1mtrain: \u001b[0mScanning /home/msccomputer/Desktop/msc_dataset/train/labels.cache... 29292 images, 33 backgrounds, 0 corrupt: 100%|██████████| 29325/29325 [00:00<?, ?it/s]\n",
            "\u001b[34m\u001b[1mval: \u001b[0mScanning /home/msccomputer/Desktop/msc_dataset/val/labels.cache... 8903 images, 8 backgrounds, 0 corrupt: 100%|██████████| 8911/8911 [00:00<?, ?it/s]\n",
            "\u001b[34m\u001b[1mval: \u001b[0mWARNING ⚠️ /home/msccomputer/Desktop/msc_dataset/val/images/z3_72_jpg.rf.57bff4abbcdb207f8565d8443744f95e.jpg: 1 duplicate labels removed\n",
            "Image sizes 1280 train, 1280 val\n",
            "Using 4 dataloader workers\n",
            "Logging results to \u001b[1myolov8/adamW_optimizer\u001b[0m\n",
            "Starting training for 400 epochs...\n",
            "\n",
            "      Epoch    GPU_mem   box_loss   cls_loss   dfl_loss  Instances       Size\n",
            "      1/400      4.39G      1.324     0.7744      1.067          6       1280: 100%|██████████| 7332/7332 [42:13<00:00,  2.89it/s]\n",
            "                 Class     Images  Instances      Box(P          R      mAP50  mAP50-95): 100%|██████████| 1114/1114 [03:11<00:00,  5.81it/s]\n",
            "                   all       8911      52905      0.863      0.779      0.838      0.491\n",
            "\n",
            "      Epoch    GPU_mem   box_loss   cls_loss   dfl_loss  Instances       Size\n",
            "      2/400       5.5G      1.198     0.6467      1.016          8       1280: 100%|██████████| 7332/7332 [38:47<00:00,  3.15it/s]\n",
            "                 Class     Images  Instances      Box(P          R      mAP50  mAP50-95): 100%|██████████| 1114/1114 [02:40<00:00,  6.94it/s]\n",
            "                   all       8911      52905      0.896      0.839      0.878      0.538\n",
            "\n",
            "      Epoch    GPU_mem   box_loss   cls_loss   dfl_loss  Instances       Size\n",
            "      3/400      3.63G       1.13     0.5983     0.9929          5       1280: 100%|██████████| 7332/7332 [38:54<00:00,  3.14it/s]\n",
            "                 Class     Images  Instances      Box(P          R      mAP50  mAP50-95): 100%|██████████| 1114/1114 [02:42<00:00,  6.84it/s]\n",
            "                   all       8911      52905      0.892      0.845      0.877      0.516\n",
            "\n",
            "      Epoch    GPU_mem   box_loss   cls_loss   dfl_loss  Instances       Size\n",
            "      4/400      3.63G      1.075     0.5606     0.9721         13       1280: 100%|██████████| 7332/7332 [38:50<00:00,  3.15it/s]\n",
            "                 Class     Images  Instances      Box(P          R      mAP50  mAP50-95): 100%|██████████| 1114/1114 [02:39<00:00,  7.00it/s]\n",
            "                   all       8911      52905      0.892       0.85      0.884       0.54\n",
            "\n",
            "      Epoch    GPU_mem   box_loss   cls_loss   dfl_loss  Instances       Size\n",
            "      5/400      3.63G      1.044     0.5388     0.9608          4       1280: 100%|██████████| 7332/7332 [38:50<00:00,  3.15it/s]\n",
            "                 Class     Images  Instances      Box(P          R      mAP50  mAP50-95): 100%|██████████| 1114/1114 [02:46<00:00,  6.71it/s]\n",
            "                   all       8911      52905      0.902      0.841      0.881       0.55\n",
            "\n",
            "      Epoch    GPU_mem   box_loss   cls_loss   dfl_loss  Instances       Size\n",
            "      6/400      3.63G      1.011     0.5201     0.9488         18       1280: 100%|██████████| 7332/7332 [38:28<00:00,  3.18it/s]\n",
            "                 Class     Images  Instances      Box(P          R      mAP50  mAP50-95): 100%|██████████| 1114/1114 [02:40<00:00,  6.95it/s]\n",
            "                   all       8911      52905      0.897       0.85      0.886      0.551\n",
            "\n",
            "      Epoch    GPU_mem   box_loss   cls_loss   dfl_loss  Instances       Size\n",
            "      7/400      3.63G     0.9933      0.508     0.9425         14       1280: 100%|██████████| 7332/7332 [39:23<00:00,  3.10it/s]\n",
            "                 Class     Images  Instances      Box(P          R      mAP50  mAP50-95): 100%|██████████| 1114/1114 [02:40<00:00,  6.94it/s]\n",
            "                   all       8911      52905      0.897      0.851      0.882      0.558\n",
            "\n",
            "      Epoch    GPU_mem   box_loss   cls_loss   dfl_loss  Instances       Size\n",
            "      8/400      3.63G     0.9733     0.4958      0.937         23       1280: 100%|██████████| 7332/7332 [38:38<00:00,  3.16it/s]\n",
            "                 Class     Images  Instances      Box(P          R      mAP50  mAP50-95): 100%|██████████| 1114/1114 [02:35<00:00,  7.15it/s]\n",
            "                   all       8911      52905      0.904      0.851      0.889      0.569\n",
            "\n",
            "      Epoch    GPU_mem   box_loss   cls_loss   dfl_loss  Instances       Size\n",
            "      9/400      3.63G     0.9544     0.4856     0.9298         25       1280: 100%|██████████| 7332/7332 [38:03<00:00,  3.21it/s]\n",
            "                 Class     Images  Instances      Box(P          R      mAP50  mAP50-95): 100%|██████████| 1114/1114 [02:36<00:00,  7.14it/s]\n",
            "                   all       8911      52905      0.904      0.857      0.888      0.564\n",
            "\n",
            "      Epoch    GPU_mem   box_loss   cls_loss   dfl_loss  Instances       Size\n",
            "     10/400      3.63G     0.9375     0.4768      0.925          1       1280: 100%|██████████| 7332/7332 [38:28<00:00,  3.18it/s]\n",
            "                 Class     Images  Instances      Box(P          R      mAP50  mAP50-95): 100%|██████████| 1114/1114 [02:33<00:00,  7.25it/s]\n",
            "                   all       8911      52905      0.909      0.858      0.892      0.569\n",
            "\n",
            "      Epoch    GPU_mem   box_loss   cls_loss   dfl_loss  Instances       Size\n",
            "     11/400      3.63G      0.927     0.4688     0.9201         11       1280: 100%|██████████| 7332/7332 [38:00<00:00,  3.22it/s]\n",
            "                 Class     Images  Instances      Box(P          R      mAP50  mAP50-95): 100%|██████████| 1114/1114 [02:37<00:00,  7.09it/s]\n",
            "                   all       8911      52905      0.902      0.855      0.891      0.572\n",
            "\n",
            "      Epoch    GPU_mem   box_loss   cls_loss   dfl_loss  Instances       Size\n",
            "     12/400      3.63G     0.9108     0.4595     0.9146          3       1280: 100%|██████████| 7332/7332 [38:05<00:00,  3.21it/s]\n",
            "                 Class     Images  Instances      Box(P          R      mAP50  mAP50-95): 100%|██████████| 1114/1114 [02:35<00:00,  7.15it/s]\n",
            "                   all       8911      52905      0.909      0.854      0.892      0.566\n",
            "\n",
            "      Epoch    GPU_mem   box_loss   cls_loss   dfl_loss  Instances       Size\n",
            "     13/400      3.63G     0.9011     0.4551     0.9121         17       1280: 100%|██████████| 7332/7332 [38:21<00:00,  3.19it/s]\n",
            "                 Class     Images  Instances      Box(P          R      mAP50  mAP50-95): 100%|██████████| 1114/1114 [02:34<00:00,  7.19it/s]\n",
            "                   all       8911      52905      0.912      0.858      0.891      0.574\n",
            "\n",
            "      Epoch    GPU_mem   box_loss   cls_loss   dfl_loss  Instances       Size\n",
            "     14/400      3.63G     0.8928     0.4497     0.9094          6       1280: 100%|██████████| 7332/7332 [38:25<00:00,  3.18it/s]\n",
            "                 Class     Images  Instances      Box(P          R      mAP50  mAP50-95): 100%|██████████| 1114/1114 [02:35<00:00,  7.15it/s]\n",
            "                   all       8911      52905      0.908      0.859      0.892      0.572\n",
            "\n",
            "      Epoch    GPU_mem   box_loss   cls_loss   dfl_loss  Instances       Size\n",
            "     15/400      3.63G     0.8866     0.4449     0.9084          2       1280: 100%|██████████| 7332/7332 [38:37<00:00,  3.16it/s]\n",
            "                 Class     Images  Instances      Box(P          R      mAP50  mAP50-95): 100%|██████████| 1114/1114 [02:35<00:00,  7.16it/s]\n",
            "                   all       8911      52905      0.917      0.854       0.89      0.572\n",
            "\n",
            "      Epoch    GPU_mem   box_loss   cls_loss   dfl_loss  Instances       Size\n",
            "     16/400      3.63G     0.8732     0.4381     0.9034          9       1280: 100%|██████████| 7332/7332 [38:36<00:00,  3.16it/s]\n",
            "                 Class     Images  Instances      Box(P          R      mAP50  mAP50-95): 100%|██████████| 1114/1114 [02:34<00:00,  7.19it/s]\n",
            "                   all       8911      52905      0.916      0.857      0.893      0.576\n",
            "\n",
            "      Epoch    GPU_mem   box_loss   cls_loss   dfl_loss  Instances       Size\n",
            "     17/400      3.63G     0.8636     0.4338     0.9013          3       1280: 100%|██████████| 7332/7332 [38:28<00:00,  3.18it/s]\n",
            "                 Class     Images  Instances      Box(P          R      mAP50  mAP50-95): 100%|██████████| 1114/1114 [02:36<00:00,  7.13it/s]\n",
            "                   all       8911      52905       0.92      0.852      0.891      0.574\n",
            "\n",
            "      Epoch    GPU_mem   box_loss   cls_loss   dfl_loss  Instances       Size\n",
            "     18/400      3.63G     0.8616     0.4315     0.9002         17       1280: 100%|██████████| 7332/7332 [38:38<00:00,  3.16it/s]\n",
            "                 Class     Images  Instances      Box(P          R      mAP50  mAP50-95): 100%|██████████| 1114/1114 [02:37<00:00,  7.08it/s]\n",
            "                   all       8911      52905      0.917      0.859      0.891      0.577\n",
            "\n",
            "      Epoch    GPU_mem   box_loss   cls_loss   dfl_loss  Instances       Size\n",
            "     19/400      3.63G     0.8549     0.4288     0.8973          8       1280: 100%|██████████| 7332/7332 [38:34<00:00,  3.17it/s]\n",
            "                 Class     Images  Instances      Box(P          R      mAP50  mAP50-95): 100%|██████████| 1114/1114 [02:37<00:00,  7.07it/s]\n",
            "                   all       8911      52905      0.918      0.859      0.891      0.577\n",
            "\n",
            "      Epoch    GPU_mem   box_loss   cls_loss   dfl_loss  Instances       Size\n",
            "     20/400      3.63G     0.8452     0.4228      0.895          4       1280: 100%|██████████| 7332/7332 [38:00<00:00,  3.21it/s]\n",
            "                 Class     Images  Instances      Box(P          R      mAP50  mAP50-95): 100%|██████████| 1114/1114 [02:36<00:00,  7.10it/s]\n",
            "                   all       8911      52905      0.916      0.862      0.891      0.577\n",
            "\n",
            "      Epoch    GPU_mem   box_loss   cls_loss   dfl_loss  Instances       Size\n",
            "     21/400      3.63G     0.8396     0.4194     0.8933         11       1280: 100%|██████████| 7332/7332 [38:29<00:00,  3.17it/s]\n",
            "                 Class     Images  Instances      Box(P          R      mAP50  mAP50-95): 100%|██████████| 1114/1114 [02:37<00:00,  7.07it/s]\n",
            "                   all       8911      52905      0.916       0.86       0.89       0.58\n",
            "\n",
            "      Epoch    GPU_mem   box_loss   cls_loss   dfl_loss  Instances       Size\n",
            "     22/400      3.63G     0.8316     0.4156     0.8912         22       1280: 100%|██████████| 7332/7332 [38:36<00:00,  3.17it/s]\n",
            "                 Class     Images  Instances      Box(P          R      mAP50  mAP50-95): 100%|██████████| 1114/1114 [02:37<00:00,  7.08it/s]\n",
            "                   all       8911      52905      0.918      0.862      0.893      0.582\n",
            "\n",
            "      Epoch    GPU_mem   box_loss   cls_loss   dfl_loss  Instances       Size\n",
            "     23/400      3.63G      0.832     0.4145     0.8912          5       1280: 100%|██████████| 7332/7332 [38:19<00:00,  3.19it/s]\n",
            "                 Class     Images  Instances      Box(P          R      mAP50  mAP50-95): 100%|██████████| 1114/1114 [02:38<00:00,  7.02it/s]\n",
            "                   all       8911      52905      0.918      0.862      0.894      0.584\n",
            "\n",
            "      Epoch    GPU_mem   box_loss   cls_loss   dfl_loss  Instances       Size\n",
            "     24/400      3.63G     0.8262     0.4109     0.8901          8       1280: 100%|██████████| 7332/7332 [38:43<00:00,  3.16it/s]\n",
            "                 Class     Images  Instances      Box(P          R      mAP50  mAP50-95): 100%|██████████| 1114/1114 [02:36<00:00,  7.11it/s]\n",
            "                   all       8911      52905      0.918      0.862      0.894      0.583\n",
            "\n",
            "      Epoch    GPU_mem   box_loss   cls_loss   dfl_loss  Instances       Size\n",
            "     25/400      3.63G     0.8208     0.4089     0.8886          9       1280: 100%|██████████| 7332/7332 [38:26<00:00,  3.18it/s]\n",
            "                 Class     Images  Instances      Box(P          R      mAP50  mAP50-95): 100%|██████████| 1114/1114 [02:35<00:00,  7.16it/s]\n",
            "                   all       8911      52905      0.918      0.861      0.894      0.583\n",
            "\n",
            "      Epoch    GPU_mem   box_loss   cls_loss   dfl_loss  Instances       Size\n",
            "     26/400      3.63G     0.8158     0.4062     0.8853         22       1280: 100%|██████████| 7332/7332 [38:29<00:00,  3.17it/s]\n",
            "                 Class     Images  Instances      Box(P          R      mAP50  mAP50-95): 100%|██████████| 1114/1114 [02:37<00:00,  7.08it/s]\n",
            "                   all       8911      52905      0.919       0.86      0.894      0.583\n",
            "\n",
            "      Epoch    GPU_mem   box_loss   cls_loss   dfl_loss  Instances       Size\n",
            "     27/400      3.63G     0.8116      0.403     0.8856          3       1280: 100%|██████████| 7332/7332 [38:53<00:00,  3.14it/s]\n",
            "                 Class     Images  Instances      Box(P          R      mAP50  mAP50-95): 100%|██████████| 1114/1114 [02:38<00:00,  7.05it/s]\n",
            "                   all       8911      52905      0.919       0.86      0.894      0.583\n",
            "\n",
            "      Epoch    GPU_mem   box_loss   cls_loss   dfl_loss  Instances       Size\n",
            "     28/400      3.63G     0.8091     0.4019     0.8843          8       1280: 100%|██████████| 7332/7332 [38:22<00:00,  3.18it/s]\n",
            "                 Class     Images  Instances      Box(P          R      mAP50  mAP50-95): 100%|██████████| 1114/1114 [02:36<00:00,  7.13it/s]\n",
            "                   all       8911      52905      0.919       0.86      0.894      0.584\n",
            "Stopping training early as no improvement observed in last 5 epochs. Best results observed at epoch 23, best model saved as best.pt.\n",
            "To update EarlyStopping(patience=5) pass a new patience value, i.e. `patience=300` or use `patience=0` to disable EarlyStopping.\n",
            "\n",
            "28 epochs completed in 19.288 hours.\n",
            "Optimizer stripped from yolov8/adamW_optimizer/weights/last.pt, 6.3MB\n",
            "Optimizer stripped from yolov8/adamW_optimizer/weights/best.pt, 6.3MB\n",
            "\n",
            "Validating yolov8/adamW_optimizer/weights/best.pt...\n",
            "Ultralytics YOLOv8.0.36 🚀 Python-3.8.10 torch-1.13.1+cu117 CUDA:0 (NVIDIA GeForce RTX 2070 with Max-Q Design, 7982MiB)\n",
            "Model summary (fused): 168 layers, 3006038 parameters, 0 gradients, 8.1 GFLOPs\n",
            "                 Class     Images  Instances      Box(P          R      mAP50  mAP50-95): 100%|██████████| 1114/1114 [02:39<00:00,  6.99it/s]\n",
            "                   all       8911      52905      0.919      0.862      0.894      0.584\n",
            "Speed: 0.4ms pre-process, 3.7ms inference, 0.0ms loss, 1.0ms post-process per image\n",
            "Results saved to \u001b[1myolov8/adamW_optimizer\u001b[0m\n"
          ]
        },
        {
          "name": "stdout",
          "output_type": "stream",
          "text": [
            "2023-02-23 07:12:38,243 - clearml.Task - INFO - Completed model upload to https://files.clear.ml/yolov8/adamW_optimizer.f76a71071bd445a2a630ba79c8659417/models/best.pt\n"
          ]
        },
        {
          "name": "stdout",
          "output_type": "stream",
          "text": [
            "2023-02-23 07:12:45,860 - clearml.Task - INFO - Completed model upload to https://files.clear.ml/yolov8/adamW_optimizer.f76a71071bd445a2a630ba79c8659417/models/best.pt\n"
          ]
        }
      ],
      "source": [
        "from ultralytics import YOLO\n",
        "\n",
        "model = YOLO(\"yolov8n.pt\")\n",
        "\n",
        "results = model.train(**arguments)"
      ]
    },
    {
      "attachments": {},
      "cell_type": "markdown",
      "metadata": {},
      "source": [
        "# VALIDATE MODEL"
      ]
    },
    {
      "cell_type": "code",
      "execution_count": 2,
      "metadata": {},
      "outputs": [
        {
          "name": "stderr",
          "output_type": "stream",
          "text": [
            "Ultralytics YOLOv8.0.36 🚀 Python-3.8.10 torch-1.13.1+cu117 CUDA:0 (NVIDIA GeForce RTX 2070 with Max-Q Design, 7982MiB)\n",
            "Model summary (fused): 168 layers, 3006038 parameters, 0 gradients, 8.1 GFLOPs\n",
            "\u001b[34m\u001b[1mval: \u001b[0mScanning /home/msccomputer/Desktop/msc_dataset/val/labels.cache... 8903 images, 8 backgrounds, 0 corrupt: 100%|██████████| 8911/8911 [00:00<?, ?it/s]\n",
            "\u001b[34m\u001b[1mval: \u001b[0mWARNING ⚠️ /home/msccomputer/Desktop/msc_dataset/val/images/z3_72_jpg.rf.57bff4abbcdb207f8565d8443744f95e.jpg: 1 duplicate labels removed\n",
            "                 Class     Images  Instances      Box(P          R      mAP50  mAP50-95):   1%|          | 3/557 [00:07<24:48,  2.69s/it]WARNING ⚠️ NMS time limit 1.300s exceeded\n",
            "                 Class     Images  Instances      Box(P          R      mAP50  mAP50-95): 100%|██████████| 557/557 [02:29<00:00,  3.72it/s]\n",
            "                   all       8911      52905      0.916      0.855      0.891       0.59\n",
            "                 human       8911      31298      0.879      0.784      0.834      0.443\n",
            "       floating-object       8911      21607      0.954      0.925      0.949      0.736\n",
            "Speed: 0.5ms pre-process, 5.9ms inference, 0.0ms loss, 1.3ms post-process per image\n"
          ]
        },
        {
          "data": {
            "text/plain": [
              "<ultralytics.yolo.utils.metrics.DetMetrics at 0x7fb44ea7fb20>"
            ]
          },
          "execution_count": 2,
          "metadata": {},
          "output_type": "execute_result"
        }
      ],
      "source": [
        "from ultralytics import YOLO\n",
        "\n",
        "model = YOLO(\"/home/msccomputer/catkin_ws/src/yolov8_ros/yolo_network_config/models/humans_and_floating_objects.pt\")\n",
        "# It'll use the data yaml file in model.pt if you don't set data.\n",
        "model.val()\n",
        "# or you can set the data you want to val\n",
        "# model.val(data=\"coco128.yaml\")"
      ]
    }
  ],
  "metadata": {
    "accelerator": "GPU",
    "colab": {
      "provenance": []
    },
    "gpuClass": "standard",
    "kernelspec": {
      "display_name": "Python 3.8.10 64-bit",
      "language": "python",
      "name": "python3"
    },
    "language_info": {
      "codemirror_mode": {
        "name": "ipython",
        "version": 3
      },
      "file_extension": ".py",
      "mimetype": "text/x-python",
      "name": "python",
      "nbconvert_exporter": "python",
      "pygments_lexer": "ipython3",
      "version": "3.8.10"
    },
    "vscode": {
      "interpreter": {
        "hash": "916dbcbb3f70747c44a77c7bcd40155683ae19c65e1c03b4aa3499c5328201f1"
      }
    },
    "widgets": {
      "application/vnd.jupyter.widget-state+json": {
        "109379c39fc24537957dc3fb903762ab": {
          "model_module": "@jupyter-widgets/controls",
          "model_module_version": "1.5.0",
          "model_name": "HTMLModel",
          "state": {
            "_dom_classes": [],
            "_model_module": "@jupyter-widgets/controls",
            "_model_module_version": "1.5.0",
            "_model_name": "HTMLModel",
            "_view_count": null,
            "_view_module": "@jupyter-widgets/controls",
            "_view_module_version": "1.5.0",
            "_view_name": "HTMLView",
            "description": "",
            "description_tooltip": null,
            "layout": "IPY_MODEL_248eae2c057a46e7b99383bae404ed8f",
            "placeholder": "​",
            "style": "IPY_MODEL_61dc706c7c414d8dbe70329638767173",
            "value": " 755k/755k [00:00&lt;00:00, 13.6MB/s]"
          }
        },
        "248eae2c057a46e7b99383bae404ed8f": {
          "model_module": "@jupyter-widgets/base",
          "model_module_version": "1.2.0",
          "model_name": "LayoutModel",
          "state": {
            "_model_module": "@jupyter-widgets/base",
            "_model_module_version": "1.2.0",
            "_model_name": "LayoutModel",
            "_view_count": null,
            "_view_module": "@jupyter-widgets/base",
            "_view_module_version": "1.2.0",
            "_view_name": "LayoutView",
            "align_content": null,
            "align_items": null,
            "align_self": null,
            "border": null,
            "bottom": null,
            "display": null,
            "flex": null,
            "flex_flow": null,
            "grid_area": null,
            "grid_auto_columns": null,
            "grid_auto_flow": null,
            "grid_auto_rows": null,
            "grid_column": null,
            "grid_gap": null,
            "grid_row": null,
            "grid_template_areas": null,
            "grid_template_columns": null,
            "grid_template_rows": null,
            "height": null,
            "justify_content": null,
            "justify_items": null,
            "left": null,
            "margin": null,
            "max_height": null,
            "max_width": null,
            "min_height": null,
            "min_width": null,
            "object_fit": null,
            "object_position": null,
            "order": null,
            "overflow": null,
            "overflow_x": null,
            "overflow_y": null,
            "padding": null,
            "right": null,
            "top": null,
            "visibility": null,
            "width": null
          }
        },
        "3b4c1d7491114f94bfa0f196a92b0b70": {
          "model_module": "@jupyter-widgets/base",
          "model_module_version": "1.2.0",
          "model_name": "LayoutModel",
          "state": {
            "_model_module": "@jupyter-widgets/base",
            "_model_module_version": "1.2.0",
            "_model_name": "LayoutModel",
            "_view_count": null,
            "_view_module": "@jupyter-widgets/base",
            "_view_module_version": "1.2.0",
            "_view_name": "LayoutView",
            "align_content": null,
            "align_items": null,
            "align_self": null,
            "border": null,
            "bottom": null,
            "display": null,
            "flex": null,
            "flex_flow": null,
            "grid_area": null,
            "grid_auto_columns": null,
            "grid_auto_flow": null,
            "grid_auto_rows": null,
            "grid_column": null,
            "grid_gap": null,
            "grid_row": null,
            "grid_template_areas": null,
            "grid_template_columns": null,
            "grid_template_rows": null,
            "height": null,
            "justify_content": null,
            "justify_items": null,
            "left": null,
            "margin": null,
            "max_height": null,
            "max_width": null,
            "min_height": null,
            "min_width": null,
            "object_fit": null,
            "object_position": null,
            "order": null,
            "overflow": null,
            "overflow_x": null,
            "overflow_y": null,
            "padding": null,
            "right": null,
            "top": null,
            "visibility": null,
            "width": null
          }
        },
        "4681a69715ef450984db5bb162540cc9": {
          "model_module": "@jupyter-widgets/base",
          "model_module_version": "1.2.0",
          "model_name": "LayoutModel",
          "state": {
            "_model_module": "@jupyter-widgets/base",
            "_model_module_version": "1.2.0",
            "_model_name": "LayoutModel",
            "_view_count": null,
            "_view_module": "@jupyter-widgets/base",
            "_view_module_version": "1.2.0",
            "_view_name": "LayoutView",
            "align_content": null,
            "align_items": null,
            "align_self": null,
            "border": null,
            "bottom": null,
            "display": null,
            "flex": null,
            "flex_flow": null,
            "grid_area": null,
            "grid_auto_columns": null,
            "grid_auto_flow": null,
            "grid_auto_rows": null,
            "grid_column": null,
            "grid_gap": null,
            "grid_row": null,
            "grid_template_areas": null,
            "grid_template_columns": null,
            "grid_template_rows": null,
            "height": null,
            "justify_content": null,
            "justify_items": null,
            "left": null,
            "margin": null,
            "max_height": null,
            "max_width": null,
            "min_height": null,
            "min_width": null,
            "object_fit": null,
            "object_position": null,
            "order": null,
            "overflow": null,
            "overflow_x": null,
            "overflow_y": null,
            "padding": null,
            "right": null,
            "top": null,
            "visibility": null,
            "width": null
          }
        },
        "5b75f907e2a046f38b7ff45d166473c0": {
          "model_module": "@jupyter-widgets/controls",
          "model_module_version": "1.5.0",
          "model_name": "ProgressStyleModel",
          "state": {
            "_model_module": "@jupyter-widgets/controls",
            "_model_module_version": "1.5.0",
            "_model_name": "ProgressStyleModel",
            "_view_count": null,
            "_view_module": "@jupyter-widgets/base",
            "_view_module_version": "1.2.0",
            "_view_name": "StyleView",
            "bar_color": null,
            "description_width": ""
          }
        },
        "61dc706c7c414d8dbe70329638767173": {
          "model_module": "@jupyter-widgets/controls",
          "model_module_version": "1.5.0",
          "model_name": "DescriptionStyleModel",
          "state": {
            "_model_module": "@jupyter-widgets/controls",
            "_model_module_version": "1.5.0",
            "_model_name": "DescriptionStyleModel",
            "_view_count": null,
            "_view_module": "@jupyter-widgets/base",
            "_view_module_version": "1.2.0",
            "_view_name": "StyleView",
            "description_width": ""
          }
        },
        "67222d7e16d04c55b3f27b9bf65ed01c": {
          "model_module": "@jupyter-widgets/base",
          "model_module_version": "1.2.0",
          "model_name": "LayoutModel",
          "state": {
            "_model_module": "@jupyter-widgets/base",
            "_model_module_version": "1.2.0",
            "_model_name": "LayoutModel",
            "_view_count": null,
            "_view_module": "@jupyter-widgets/base",
            "_view_module_version": "1.2.0",
            "_view_name": "LayoutView",
            "align_content": null,
            "align_items": null,
            "align_self": null,
            "border": null,
            "bottom": null,
            "display": null,
            "flex": null,
            "flex_flow": null,
            "grid_area": null,
            "grid_auto_columns": null,
            "grid_auto_flow": null,
            "grid_auto_rows": null,
            "grid_column": null,
            "grid_gap": null,
            "grid_row": null,
            "grid_template_areas": null,
            "grid_template_columns": null,
            "grid_template_rows": null,
            "height": null,
            "justify_content": null,
            "justify_items": null,
            "left": null,
            "margin": null,
            "max_height": null,
            "max_width": null,
            "min_height": null,
            "min_width": null,
            "object_fit": null,
            "object_position": null,
            "order": null,
            "overflow": null,
            "overflow_x": null,
            "overflow_y": null,
            "padding": null,
            "right": null,
            "top": null,
            "visibility": null,
            "width": null
          }
        },
        "6f79aabe79a14db5b8297266fc5d8a23": {
          "model_module": "@jupyter-widgets/controls",
          "model_module_version": "1.5.0",
          "model_name": "HTMLModel",
          "state": {
            "_dom_classes": [],
            "_model_module": "@jupyter-widgets/controls",
            "_model_module_version": "1.5.0",
            "_model_name": "HTMLModel",
            "_view_count": null,
            "_view_module": "@jupyter-widgets/controls",
            "_view_module_version": "1.5.0",
            "_view_name": "HTMLView",
            "description": "",
            "description_tooltip": null,
            "layout": "IPY_MODEL_3b4c1d7491114f94bfa0f196a92b0b70",
            "placeholder": "​",
            "style": "IPY_MODEL_f351b893ab7f43bab70b1a1a143b9aad",
            "value": "100%"
          }
        },
        "7ca8eed5c617471ba7ae80fdc0e2450d": {
          "model_module": "@jupyter-widgets/controls",
          "model_module_version": "1.5.0",
          "model_name": "HBoxModel",
          "state": {
            "_dom_classes": [],
            "_model_module": "@jupyter-widgets/controls",
            "_model_module_version": "1.5.0",
            "_model_name": "HBoxModel",
            "_view_count": null,
            "_view_module": "@jupyter-widgets/controls",
            "_view_module_version": "1.5.0",
            "_view_name": "HBoxView",
            "box_style": "",
            "children": [
              "IPY_MODEL_6f79aabe79a14db5b8297266fc5d8a23",
              "IPY_MODEL_ae6f91c05cbe495c8146723b8b2bb4bb",
              "IPY_MODEL_109379c39fc24537957dc3fb903762ab"
            ],
            "layout": "IPY_MODEL_67222d7e16d04c55b3f27b9bf65ed01c"
          }
        },
        "ae6f91c05cbe495c8146723b8b2bb4bb": {
          "model_module": "@jupyter-widgets/controls",
          "model_module_version": "1.5.0",
          "model_name": "FloatProgressModel",
          "state": {
            "_dom_classes": [],
            "_model_module": "@jupyter-widgets/controls",
            "_model_module_version": "1.5.0",
            "_model_name": "FloatProgressModel",
            "_view_count": null,
            "_view_module": "@jupyter-widgets/controls",
            "_view_module_version": "1.5.0",
            "_view_name": "ProgressView",
            "bar_style": "success",
            "description": "",
            "description_tooltip": null,
            "layout": "IPY_MODEL_4681a69715ef450984db5bb162540cc9",
            "max": 773236,
            "min": 0,
            "orientation": "horizontal",
            "style": "IPY_MODEL_5b75f907e2a046f38b7ff45d166473c0",
            "value": 773236
          }
        },
        "f351b893ab7f43bab70b1a1a143b9aad": {
          "model_module": "@jupyter-widgets/controls",
          "model_module_version": "1.5.0",
          "model_name": "DescriptionStyleModel",
          "state": {
            "_model_module": "@jupyter-widgets/controls",
            "_model_module_version": "1.5.0",
            "_model_name": "DescriptionStyleModel",
            "_view_count": null,
            "_view_module": "@jupyter-widgets/base",
            "_view_module_version": "1.2.0",
            "_view_name": "StyleView",
            "description_width": ""
          }
        }
      }
    }
  },
  "nbformat": 4,
  "nbformat_minor": 0
}
